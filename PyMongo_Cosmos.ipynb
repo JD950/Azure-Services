{
  "nbformat": 4,
  "nbformat_minor": 0,
  "metadata": {
    "colab": {
      "name": "Copy of 006 PyMongo Cosmos.ipynb",
      "provenance": [],
      "collapsed_sections": [],
      "include_colab_link": true
    },
    "kernelspec": {
      "name": "python3",
      "display_name": "Python 3"
    },
    "language_info": {
      "name": "python"
    }
  },
  "cells": [
    {
      "cell_type": "markdown",
      "metadata": {
        "id": "view-in-github",
        "colab_type": "text"
      },
      "source": [
        "<a href=\"https://colab.research.google.com/github/JD950/NoSQL_notebook/blob/main/PyMongo_Cosmos.ipynb\" target=\"_parent\"><img src=\"https://colab.research.google.com/assets/colab-badge.svg\" alt=\"Open In Colab\"/></a>"
      ]
    },
    {
      "cell_type": "code",
      "metadata": {
        "id": "4J2wIcM1-ZdB"
      },
      "source": [
        "# Connection string \n",
        "import pymongo\n",
        "uri = \"mongodb://randomwhale:hN837NgLsDvLuQOIlMJ9klk71vdcxDoYtat8Cs5RjA4k4q0Y7DjqLwGBn1N12U46dtsdWsXvBgjuHDg75UlGWg==@randomwhale.mongo.cosmos.azure.com:10255/?ssl=true&retrywrites=false&replicaSet=globaldb&maxIdleTimeMS=120000&appName=@randomwhale@\"\n",
        "client = pymongo.MongoClient(uri)"
      ],
      "execution_count": null,
      "outputs": []
    },
    {
      "cell_type": "code",
      "metadata": {
        "id": "D1UWc_tb1vAU"
      },
      "source": [
        "mydb = client[\"dodoisdancing\"] "
      ],
      "execution_count": null,
      "outputs": []
    },
    {
      "cell_type": "code",
      "metadata": {
        "id": "ViuCq-5D87BV"
      },
      "source": [
        "mycol = mydb[\"Favourite dance\"] # Collection name "
      ],
      "execution_count": null,
      "outputs": []
    },
    {
      "cell_type": "code",
      "metadata": {
        "id": "s-j7opwR9HFW"
      },
      "source": [
        "mydict = { \"name\": \"John\", \"dance\": \"Makarena\" }\n",
        "\n",
        "x = mycol.insert_one(mydict)"
      ],
      "execution_count": null,
      "outputs": []
    },
    {
      "cell_type": "code",
      "metadata": {
        "id": "McCQQaXI9SOe"
      },
      "source": [
        "mydict = { \"name\": \"Jose\", \"age\": 30 }\n",
        "\n",
        "x = mycol.insert_one(mydict)"
      ],
      "execution_count": null,
      "outputs": []
    },
    {
      "cell_type": "code",
      "metadata": {
        "id": "BDOiHbc-G7lM"
      },
      "source": [
        ""
      ],
      "execution_count": null,
      "outputs": []
    },
    {
      "cell_type": "code",
      "metadata": {
        "id": "n0EgDSQq9qIL"
      },
      "source": [
        "r2 = { \"name\": \"Monica\", \"complex\": mydict , \"subjects\":[\"eng\",\"fr\",\"gt\"]}\n",
        "\n",
        "x = mycol.insert_one(r2)"
      ],
      "execution_count": null,
      "outputs": []
    },
    {
      "cell_type": "code",
      "metadata": {
        "colab": {
          "base_uri": "https://localhost:8080/"
        },
        "id": "Bu_SKVlg94LP",
        "outputId": "62f7cea2-fecb-4c7c-fb64-5ae129bc1e88"
      },
      "source": [
        "# MongoDB-> Document Database \n",
        "for x in mycol.find():\n",
        "  print(x)"
      ],
      "execution_count": null,
      "outputs": [
        {
          "output_type": "stream",
          "name": "stdout",
          "text": [
            "{'_id': ObjectId('619bc075a07788b5c868f6b2'), 'name': 'John', 'dance': 'Makarena'}\n",
            "{'_id': ObjectId('619bc07ea07788b5c868f6b3'), 'name': 'Jose', 'age': 30}\n",
            "{'_id': ObjectId('619bc090a07788b5c868f6b4'), 'name': 'Monica', 'complex': {'name': 'Jose', 'age': 30, '_id': ObjectId('619bc07ea07788b5c868f6b3')}, 'subjects': ['eng', 'fr', 'gt']}\n"
          ]
        }
      ]
    },
    {
      "cell_type": "code",
      "metadata": {
        "colab": {
          "base_uri": "https://localhost:8080/"
        },
        "id": "1hWjlFs2-d7f",
        "outputId": "93c5d2c6-7b8c-4b0d-cfb3-72924aa11eeb"
      },
      "source": [
        "for x in mycol.find({\"name\":\"Jose\", \"age\":30}).limit(1):\n",
        "  print(x)"
      ],
      "execution_count": null,
      "outputs": [
        {
          "output_type": "stream",
          "name": "stdout",
          "text": [
            "{'_id': ObjectId('619bc07ea07788b5c868f6b3'), 'name': 'Jose', 'age': 30}\n"
          ]
        }
      ]
    },
    {
      "cell_type": "code",
      "metadata": {
        "colab": {
          "base_uri": "https://localhost:8080/"
        },
        "id": "PaT8LNoeMFRe",
        "outputId": "7c912a57-0942-4952-cf4c-27d009cd0239"
      },
      "source": [
        "myquery = { \"name\": { \"$regex\": \"e$\" } } \n",
        "# regular expression that ends with letter 'p'\n",
        "\n",
        "mydoc = mycol.find(myquery)\n",
        "\n",
        "for x in mydoc:\n",
        "  print(x)"
      ],
      "execution_count": null,
      "outputs": [
        {
          "output_type": "stream",
          "name": "stdout",
          "text": [
            "{'_id': ObjectId('619bc07ea07788b5c868f6b3'), 'name': 'Jose', 'age': 30}\n"
          ]
        }
      ]
    }
  ]
}