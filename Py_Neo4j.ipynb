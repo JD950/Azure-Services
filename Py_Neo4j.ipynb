{
  "nbformat": 4,
  "nbformat_minor": 0,
  "metadata": {
    "colab": {
      "name": "Copy of neo4js.ipynb",
      "provenance": [],
      "collapsed_sections": [],
      "include_colab_link": true
    },
    "kernelspec": {
      "name": "python3",
      "display_name": "Python 3"
    },
    "language_info": {
      "name": "python"
    }
  },
  "cells": [
    {
      "cell_type": "markdown",
      "metadata": {
        "id": "view-in-github",
        "colab_type": "text"
      },
      "source": [
        "<a href=\"https://colab.research.google.com/github/JD950/NoSQL/blob/main/Py_Neo4j.ipynb\" target=\"_parent\"><img src=\"https://colab.research.google.com/assets/colab-badge.svg\" alt=\"Open In Colab\"/></a>"
      ]
    },
    {
      "cell_type": "markdown",
      "metadata": {
        "id": "dWTSXoNCs5tQ"
      },
      "source": [
        "Creating a Graph Database"
      ]
    },
    {
      "cell_type": "code",
      "metadata": {
        "colab": {
          "base_uri": "https://localhost:8080/"
        },
        "id": "x2iJ5GvTS-NK",
        "outputId": "60ae3018-5792-418c-e41a-441a43c2386b"
      },
      "source": [
        "!pip install neo4j"
      ],
      "execution_count": 3,
      "outputs": [
        {
          "output_type": "stream",
          "name": "stdout",
          "text": [
            "Requirement already satisfied: neo4j in /usr/local/lib/python3.7/dist-packages (4.4.0)\n",
            "Requirement already satisfied: pytz in /usr/local/lib/python3.7/dist-packages (from neo4j) (2018.9)\n"
          ]
        }
      ]
    },
    {
      "cell_type": "code",
      "metadata": {
        "id": "SznL4xmnT4Pz"
      },
      "source": [
        "#Deployment at https://sandbox.neo4j.com/ \n",
        "\n",
        "import neo4j\n",
        "from neo4j import GraphDatabase\n",
        "# Correct and Secure practice is to save these values as secrets, environment variables or as config file. But since we are in noteboo -- lets hardcode it for now\n",
        "uri = 'bolt://44.193.24.89:7687'   \n",
        "\n",
        "user = 'neo4j'\n",
        "\n",
        "password = 'punctures-tan-orifices'\n",
        "driver =  GraphDatabase.driver(uri, auth=(user, password))"
      ],
      "execution_count": 5,
      "outputs": []
    },
    {
      "cell_type": "code",
      "metadata": {
        "id": "-lBkxVASUQ_O"
      },
      "source": [
        "# now that we know there is no syntax error, let's define the connection properly as a class\n",
        "# otherwise we will have to worry about open ended connections \n",
        "\n",
        "class Driver:\n",
        "    def __init__(this, uri, user, password):\n",
        "        this.driver = GraphDatabase.driver(uri, auth=(user, password))\n",
        "    def close(this):\n",
        "        this.driver.close()\n",
        "# __init__ is the constructor of the class, referred by the THIS pointer"
      ],
      "execution_count": 6,
      "outputs": []
    },
    {
      "cell_type": "code",
      "metadata": {
        "id": "Ohb8FiD-XKLy"
      },
      "source": [
        "# now let's update our class to execute queries for us\n",
        "class Driver:\n",
        "    def __init__(this, uri, user, password):\n",
        "      this.driver = GraphDatabase.driver(uri, auth=(user, password))\n",
        "    def close(this):\n",
        "      this.driver.close()\n",
        "      \n",
        "    def executequery(this, query, parameters=None, db=None):\n",
        "      session = this.driver.session(database=db) if db is not None else this.driver.session()\n",
        "      response = []\n",
        "      try:\n",
        "        response = list(session.run(query, parameters))\n",
        "      except Exception as e:\n",
        "        print(\"Query failed:\", e)\n",
        "      finally: \n",
        "        if session is not None:\n",
        "          session.close()\n",
        "        return response\n",
        "\n",
        "\n"
      ],
      "execution_count": 7,
      "outputs": []
    },
    {
      "cell_type": "code",
      "metadata": {
        "id": "JdQQhl9xZDim"
      },
      "source": [
        "# 4 ways of creating NODES:\n",
        "# ()                  //anonymous node (no label or variable) can refer to any node in the database\n",
        "# (p:Person)          //using variable p and label Person\n",
        "# (:Technology)       //no variable, label Technology\n",
        "# (work:Company)      //using variable work and label Company"
      ],
      "execution_count": null,
      "outputs": []
    },
    {
      "cell_type": "code",
      "metadata": {
        "id": "utL9G_zFZklm"
      },
      "source": [
        "query = 'CREATE (t:trainer)-[:EATS]->(f:food)'\n",
        "\n",
        "mydriver = Driver(uri, user, password)"
      ],
      "execution_count": 8,
      "outputs": []
    },
    {
      "cell_type": "code",
      "metadata": {
        "id": "Zvvkh_EmaFSp"
      },
      "source": [
        "mydriver.executequery(query)"
      ],
      "execution_count": null,
      "outputs": []
    },
    {
      "cell_type": "code",
      "metadata": {
        "id": "GKshMvOZaIJ0"
      },
      "source": [
        "query = 'CREATE (t:trainer {name: \"Deepanshu\"})-[rel:LIKES]->(f:food {type: \"pasta\"})'\n",
        "mydriver.executequery(query)"
      ],
      "execution_count": null,
      "outputs": []
    },
    {
      "cell_type": "code",
      "metadata": {
        "id": "NrQr0-WwbBst"
      },
      "source": [
        "trainers = ['Deepanshu', 'Batman', 'Goofy']\n",
        "food = ['pasta', 'bangers  bash ', 'cheese']\n",
        "for c in range(3):\n",
        "  query = 'CREATE (t:trainer {name: \"'+trainers[c]+'\"})-[rel:LIKES]->(f:food {type:\"'+food[c]+'\"})'\n",
        "  mydriver.executequery(query)"
      ],
      "execution_count": 12,
      "outputs": []
    },
    {
      "cell_type": "code",
      "metadata": {
        "id": "ORTxtj3LcL2P"
      },
      "source": [
        "query = 'MATCH (t:trainer) RETURN t'\n",
        "mydriver.executequery(query)"
      ],
      "execution_count": null,
      "outputs": []
    },
    {
      "cell_type": "code",
      "metadata": {
        "id": "2GGWEzHRcfK-"
      },
      "source": [
        "query = 'MATCH (t:trainer {name: \"Batman\"})-[:LIKES]->(f:food) RETURN f'\n",
        "mydriver.executequery(query)"
      ],
      "execution_count": null,
      "outputs": []
    },
    {
      "cell_type": "code",
      "metadata": {
        "id": "4Mk13aUwdOv9"
      },
      "source": [
        "query = 'MATCH (t:trainer)-[:LIKES]->(f:food {type: \"pasta\"}) RETURN t'\n",
        "mydriver.executequery(query)"
      ],
      "execution_count": null,
      "outputs": []
    },
    {
      "cell_type": "code",
      "metadata": {
        "id": "_5MCv0EvdtXU"
      },
      "source": [
        "trainers = ['Deepanshu', 'Batman', 'Goofy','Deepanshu', 'Batman', 'Goofy']\n",
        "students = ['humans', 'monkeys', 'monkeys', 'pikachus', 'girraffe', 'cats',]\n",
        "for c in range(6):\n",
        "  query = 'CREATE (t:trainer {name: \"'+trainers[c]+'\"})-[rel:TEACHES]->(s:student {gene:\"'+students[c]+'\"})'\n",
        "  mydriver.executequery(query)"
      ],
      "execution_count": 16,
      "outputs": []
    },
    {
      "cell_type": "code",
      "metadata": {
        "id": "7kajAP3Afo-i"
      },
      "source": [
        "query = 'MATCH (t:trainer) -[:TEACHES]->(s:student) RETURN t'\n",
        "mydriver.executequery(query)"
      ],
      "execution_count": null,
      "outputs": []
    },
    {
      "cell_type": "code",
      "metadata": {
        "id": "4djS3DNwf6x_"
      },
      "source": [
        "query = 'MATCH (t:trainer {name: \"Batman\"}) SET t.birthdate = date(\"1980-01-01\") RETURN t'\n",
        "mydriver.executequery(query)\n",
        "query = 'MATCH (t:trainer) RETURN t'\n",
        "mydriver.executequery(query)"
      ],
      "execution_count": null,
      "outputs": []
    },
    {
      "cell_type": "code",
      "metadata": {
        "id": "BK3Zy6Achy3q"
      },
      "source": [
        "query = 'MATCH (t:trainer)-[tea:TEACHES]-(s:student) RETURN t.name,tea.id,s.gene'\n",
        "results = mydriver.executequery(query)"
      ],
      "execution_count": 19,
      "outputs": []
    },
    {
      "cell_type": "code",
      "metadata": {
        "id": "V4ilLUdpivLf"
      },
      "source": [
        "results"
      ],
      "execution_count": null,
      "outputs": []
    },
    {
      "cell_type": "code",
      "metadata": {
        "id": "JcEJHMtIox88"
      },
      "source": [
        "# Where clause\n",
        "query='MATCH (d:trainer) WHERE d.name = \"Deepanshu\" RETURN d'\n",
        "mydriver.executequery(query)"
      ],
      "execution_count": null,
      "outputs": []
    },
    {
      "cell_type": "code",
      "metadata": {
        "id": "OObGmFQHpSna"
      },
      "source": [
        "query = 'MATCH (d:trainer) WHERE NOT d.name = \"Deepanshu\" RETURN d.name, d.birthdate'\n",
        "mydriver.executequery(query)\n",
        "# as we can see, d.birthdate is None for values that didnt have the property. SO we should find a way to eliminate such records"
      ],
      "execution_count": null,
      "outputs": []
    },
    {
      "cell_type": "code",
      "metadata": {
        "id": "SU2FbXcdrmx8"
      },
      "source": [
        "query = 'MATCH (d:trainer) WHERE exists(d.birthdate) RETURN d.name, d.birthdate'\n",
        "mydriver.executequery(query)\n",
        "# this query selected only the Nodes where the birthdate property existed "
      ],
      "execution_count": null,
      "outputs": []
    },
    {
      "cell_type": "code",
      "metadata": {
        "id": "Uj9TKOPOsTjU"
      },
      "source": [
        "query = 'MATCH (d:trainer)-[rel:LIKES]->(f:food) WHERE exists(d.birthdate) RETURN d.name, d.birthdate, f.type'\n",
        "mydriver.executequery(query)"
      ],
      "execution_count": null,
      "outputs": []
    },
    {
      "cell_type": "code",
      "metadata": {
        "id": "VyZ7mFAHptjh"
      },
      "source": [
        "# setting some numerical properties randomly to do math ops\n",
        "trainers = ['Deepanshu', 'Batman', 'Goofy']\n",
        "import random\n",
        "def sendRandomNumber():\n",
        "  return int(random.random()*1000)\n",
        "\n",
        "for trainer in trainers:\n",
        "  query = 'MATCH (t:trainer {name: \"'+trainer+'\"}) SET t.age = '+str(sendRandomNumber())+' RETURN t'\n",
        "  mydriver.executequery(query)"
      ],
      "execution_count": 25,
      "outputs": []
    },
    {
      "cell_type": "code",
      "metadata": {
        "id": "UAMUgX0YqnAT"
      },
      "source": [
        "query = 'MATCH (t:trainer) RETURN t'\n",
        "mydriver.executequery(query)"
      ],
      "execution_count": null,
      "outputs": []
    },
    {
      "cell_type": "code",
      "metadata": {
        "id": "9rOtua6Sq2Ut"
      },
      "source": [
        "query = 'MATCH (t:trainer) WHERE 550 <= t.age <= 800 RETURN t'\n",
        "mydriver.executequery(query)"
      ],
      "execution_count": null,
      "outputs": []
    },
    {
      "cell_type": "code",
      "metadata": {
        "id": "UP3e_s8ZrOe3"
      },
      "source": [
        "# fuzzy searches\n",
        "query = 'MATCH (t:trainer) WHERE t.name STARTS WITH \"G\" RETURN t.name'\n",
        "print(mydriver.executequery(query))\n",
        "query = 'MATCH (t:trainer) WHERE t.name CONTAINS \"a\" RETURN t.name'\n",
        "print(mydriver.executequery(query))\n",
        "query = 'MATCH (t:trainer) WHERE t.name ENDS WITH \"u\" RETURN t.name'\n",
        "print(mydriver.executequery(query))\n"
      ],
      "execution_count": null,
      "outputs": []
    },
    {
      "cell_type": "code",
      "metadata": {
        "id": "WI9g__RgvEC3"
      },
      "source": [
        "query = 'MATCH (t:trainer) WHERE t.name =~ \"Go.*\" RETURN t.name'\n",
        "print(mydriver.executequery(query))\n",
        "# . (single character)\n",
        "# * (wild card)\n",
        "# .* -> single characters any number of time\n",
        "# Go.* -> Go followed by any number of characters"
      ],
      "execution_count": null,
      "outputs": []
    },
    {
      "cell_type": "code",
      "metadata": {
        "id": "RWvG2VODthUJ"
      },
      "source": [
        "query = 'MATCH (t:trainer) WHERE t.name =~ \".*an.*\" RETURN t.name'\n",
        "print(mydriver.executequery(query))\n",
        "\n",
        "# .*an.* -> characters, an present, more characters "
      ],
      "execution_count": null,
      "outputs": []
    },
    {
      "cell_type": "code",
      "metadata": {
        "id": "FaRJ7HXuutAM"
      },
      "source": [
        "query = 'MATCH (t:trainer)-[tea:TEACHES]-(s:student) WHERE exists((:trainer)-[:LIKES]->(:food)) RETURN t.name,s.gene'\n",
        "mydriver.executequery(query)"
      ],
      "execution_count": null,
      "outputs": []
    },
    {
      "cell_type": "code",
      "metadata": {
        "id": "4Q_qjwJfv597"
      },
      "source": [
        "# inbuilt functions\n",
        "query = 'CALL dbms.functions()'\n",
        "mydriver.executequery(query)"
      ],
      "execution_count": null,
      "outputs": []
    },
    {
      "cell_type": "code",
      "metadata": {
        "id": "7ceSdaJTw0sv"
      },
      "source": [
        ""
      ],
      "execution_count": null,
      "outputs": []
    }
  ]
}